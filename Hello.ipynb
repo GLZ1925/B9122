{
  "nbformat": 4,
  "nbformat_minor": 0,
  "metadata": {
    "colab": {
      "name": "Hello.ipynb",
      "provenance": []
    },
    "kernelspec": {
      "name": "python3",
      "display_name": "Python 3"
    }
  },
  "cells": [
    {
      "cell_type": "markdown",
      "metadata": {
        "id": "UbcoGUD7rIY5"
      },
      "source": [
        "# commit this jupyter notebook to my github"
      ]
    },
    {
      "cell_type": "code",
      "metadata": {
        "id": "sFvFgoO_rFhO",
        "outputId": "7cd496e5-ef1d-4114-c06a-ee1c7d5bbcd3",
        "colab": {
          "base_uri": "https://localhost:8080/",
          "height": 35
        }
      },
      "source": [
        "print(\"I will be committed\")"
      ],
      "execution_count": 1,
      "outputs": [
        {
          "output_type": "stream",
          "text": [
            "I will be committed\n"
          ],
          "name": "stdout"
        }
      ]
    }
  ]
}